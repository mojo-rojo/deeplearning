{
  "nbformat": 4,
  "nbformat_minor": 0,
  "metadata": {
    "colab": {
      "provenance": []
    },
    "kernelspec": {
      "name": "python3",
      "display_name": "Python 3"
    },
    "language_info": {
      "name": "python"
    }
  },
  "cells": [
    {
      "cell_type": "code",
      "execution_count": null,
      "metadata": {
        "id": "FKlbmEi-OqKr"
      },
      "outputs": [],
      "source": [
        "import pandas as pd\n",
        "import tensorflow\n",
        "from tensorflow import keras\n",
        "from keras.models import Sequential\n",
        "from keras.layers import Dense\n"
      ]
    },
    {
      "cell_type": "code",
      "source": [
        "# Step 1: Read the Dataset\n",
        "df = pd.read_csv('/content/drive/MyDrive/sem 8/DL/Datasets/placementdataset.csv')"
      ],
      "metadata": {
        "id": "ohyhxm4YQEhR"
      },
      "execution_count": null,
      "outputs": []
    },
    {
      "cell_type": "code",
      "source": [
        "df.head()"
      ],
      "metadata": {
        "colab": {
          "base_uri": "https://localhost:8080/",
          "height": 206
        },
        "id": "yqYtU5SSQOlm",
        "outputId": "1ee61188-b677-4196-a589-b84813da1d35"
      },
      "execution_count": null,
      "outputs": [
        {
          "output_type": "execute_result",
          "data": {
            "text/plain": [
              "   CGPA  Profile_Score  Placed\n",
              "0   8.5            9.0       1\n",
              "1   7.8            8.2       1\n",
              "2   9.3            9.5       1\n",
              "3   6.9            7.1       0\n",
              "4   7.2            6.8       0"
            ],
            "text/html": [
              "\n",
              "  <div id=\"df-1c0e46a0-8329-4ea0-9db9-a0da2a4f00f2\" class=\"colab-df-container\">\n",
              "    <div>\n",
              "<style scoped>\n",
              "    .dataframe tbody tr th:only-of-type {\n",
              "        vertical-align: middle;\n",
              "    }\n",
              "\n",
              "    .dataframe tbody tr th {\n",
              "        vertical-align: top;\n",
              "    }\n",
              "\n",
              "    .dataframe thead th {\n",
              "        text-align: right;\n",
              "    }\n",
              "</style>\n",
              "<table border=\"1\" class=\"dataframe\">\n",
              "  <thead>\n",
              "    <tr style=\"text-align: right;\">\n",
              "      <th></th>\n",
              "      <th>CGPA</th>\n",
              "      <th>Profile_Score</th>\n",
              "      <th>Placed</th>\n",
              "    </tr>\n",
              "  </thead>\n",
              "  <tbody>\n",
              "    <tr>\n",
              "      <th>0</th>\n",
              "      <td>8.5</td>\n",
              "      <td>9.0</td>\n",
              "      <td>1</td>\n",
              "    </tr>\n",
              "    <tr>\n",
              "      <th>1</th>\n",
              "      <td>7.8</td>\n",
              "      <td>8.2</td>\n",
              "      <td>1</td>\n",
              "    </tr>\n",
              "    <tr>\n",
              "      <th>2</th>\n",
              "      <td>9.3</td>\n",
              "      <td>9.5</td>\n",
              "      <td>1</td>\n",
              "    </tr>\n",
              "    <tr>\n",
              "      <th>3</th>\n",
              "      <td>6.9</td>\n",
              "      <td>7.1</td>\n",
              "      <td>0</td>\n",
              "    </tr>\n",
              "    <tr>\n",
              "      <th>4</th>\n",
              "      <td>7.2</td>\n",
              "      <td>6.8</td>\n",
              "      <td>0</td>\n",
              "    </tr>\n",
              "  </tbody>\n",
              "</table>\n",
              "</div>\n",
              "    <div class=\"colab-df-buttons\">\n",
              "\n",
              "  <div class=\"colab-df-container\">\n",
              "    <button class=\"colab-df-convert\" onclick=\"convertToInteractive('df-1c0e46a0-8329-4ea0-9db9-a0da2a4f00f2')\"\n",
              "            title=\"Convert this dataframe to an interactive table.\"\n",
              "            style=\"display:none;\">\n",
              "\n",
              "  <svg xmlns=\"http://www.w3.org/2000/svg\" height=\"24px\" viewBox=\"0 -960 960 960\">\n",
              "    <path d=\"M120-120v-720h720v720H120Zm60-500h600v-160H180v160Zm220 220h160v-160H400v160Zm0 220h160v-160H400v160ZM180-400h160v-160H180v160Zm440 0h160v-160H620v160ZM180-180h160v-160H180v160Zm440 0h160v-160H620v160Z\"/>\n",
              "  </svg>\n",
              "    </button>\n",
              "\n",
              "  <style>\n",
              "    .colab-df-container {\n",
              "      display:flex;\n",
              "      gap: 12px;\n",
              "    }\n",
              "\n",
              "    .colab-df-convert {\n",
              "      background-color: #E8F0FE;\n",
              "      border: none;\n",
              "      border-radius: 50%;\n",
              "      cursor: pointer;\n",
              "      display: none;\n",
              "      fill: #1967D2;\n",
              "      height: 32px;\n",
              "      padding: 0 0 0 0;\n",
              "      width: 32px;\n",
              "    }\n",
              "\n",
              "    .colab-df-convert:hover {\n",
              "      background-color: #E2EBFA;\n",
              "      box-shadow: 0px 1px 2px rgba(60, 64, 67, 0.3), 0px 1px 3px 1px rgba(60, 64, 67, 0.15);\n",
              "      fill: #174EA6;\n",
              "    }\n",
              "\n",
              "    .colab-df-buttons div {\n",
              "      margin-bottom: 4px;\n",
              "    }\n",
              "\n",
              "    [theme=dark] .colab-df-convert {\n",
              "      background-color: #3B4455;\n",
              "      fill: #D2E3FC;\n",
              "    }\n",
              "\n",
              "    [theme=dark] .colab-df-convert:hover {\n",
              "      background-color: #434B5C;\n",
              "      box-shadow: 0px 1px 3px 1px rgba(0, 0, 0, 0.15);\n",
              "      filter: drop-shadow(0px 1px 2px rgba(0, 0, 0, 0.3));\n",
              "      fill: #FFFFFF;\n",
              "    }\n",
              "  </style>\n",
              "\n",
              "    <script>\n",
              "      const buttonEl =\n",
              "        document.querySelector('#df-1c0e46a0-8329-4ea0-9db9-a0da2a4f00f2 button.colab-df-convert');\n",
              "      buttonEl.style.display =\n",
              "        google.colab.kernel.accessAllowed ? 'block' : 'none';\n",
              "\n",
              "      async function convertToInteractive(key) {\n",
              "        const element = document.querySelector('#df-1c0e46a0-8329-4ea0-9db9-a0da2a4f00f2');\n",
              "        const dataTable =\n",
              "          await google.colab.kernel.invokeFunction('convertToInteractive',\n",
              "                                                    [key], {});\n",
              "        if (!dataTable) return;\n",
              "\n",
              "        const docLinkHtml = 'Like what you see? Visit the ' +\n",
              "          '<a target=\"_blank\" href=https://colab.research.google.com/notebooks/data_table.ipynb>data table notebook</a>'\n",
              "          + ' to learn more about interactive tables.';\n",
              "        element.innerHTML = '';\n",
              "        dataTable['output_type'] = 'display_data';\n",
              "        await google.colab.output.renderOutput(dataTable, element);\n",
              "        const docLink = document.createElement('div');\n",
              "        docLink.innerHTML = docLinkHtml;\n",
              "        element.appendChild(docLink);\n",
              "      }\n",
              "    </script>\n",
              "  </div>\n",
              "\n",
              "\n",
              "<div id=\"df-0717fe92-489f-4fad-a79c-87d7c8b69ec7\">\n",
              "  <button class=\"colab-df-quickchart\" onclick=\"quickchart('df-0717fe92-489f-4fad-a79c-87d7c8b69ec7')\"\n",
              "            title=\"Suggest charts\"\n",
              "            style=\"display:none;\">\n",
              "\n",
              "<svg xmlns=\"http://www.w3.org/2000/svg\" height=\"24px\"viewBox=\"0 0 24 24\"\n",
              "     width=\"24px\">\n",
              "    <g>\n",
              "        <path d=\"M19 3H5c-1.1 0-2 .9-2 2v14c0 1.1.9 2 2 2h14c1.1 0 2-.9 2-2V5c0-1.1-.9-2-2-2zM9 17H7v-7h2v7zm4 0h-2V7h2v10zm4 0h-2v-4h2v4z\"/>\n",
              "    </g>\n",
              "</svg>\n",
              "  </button>\n",
              "\n",
              "<style>\n",
              "  .colab-df-quickchart {\n",
              "      --bg-color: #E8F0FE;\n",
              "      --fill-color: #1967D2;\n",
              "      --hover-bg-color: #E2EBFA;\n",
              "      --hover-fill-color: #174EA6;\n",
              "      --disabled-fill-color: #AAA;\n",
              "      --disabled-bg-color: #DDD;\n",
              "  }\n",
              "\n",
              "  [theme=dark] .colab-df-quickchart {\n",
              "      --bg-color: #3B4455;\n",
              "      --fill-color: #D2E3FC;\n",
              "      --hover-bg-color: #434B5C;\n",
              "      --hover-fill-color: #FFFFFF;\n",
              "      --disabled-bg-color: #3B4455;\n",
              "      --disabled-fill-color: #666;\n",
              "  }\n",
              "\n",
              "  .colab-df-quickchart {\n",
              "    background-color: var(--bg-color);\n",
              "    border: none;\n",
              "    border-radius: 50%;\n",
              "    cursor: pointer;\n",
              "    display: none;\n",
              "    fill: var(--fill-color);\n",
              "    height: 32px;\n",
              "    padding: 0;\n",
              "    width: 32px;\n",
              "  }\n",
              "\n",
              "  .colab-df-quickchart:hover {\n",
              "    background-color: var(--hover-bg-color);\n",
              "    box-shadow: 0 1px 2px rgba(60, 64, 67, 0.3), 0 1px 3px 1px rgba(60, 64, 67, 0.15);\n",
              "    fill: var(--button-hover-fill-color);\n",
              "  }\n",
              "\n",
              "  .colab-df-quickchart-complete:disabled,\n",
              "  .colab-df-quickchart-complete:disabled:hover {\n",
              "    background-color: var(--disabled-bg-color);\n",
              "    fill: var(--disabled-fill-color);\n",
              "    box-shadow: none;\n",
              "  }\n",
              "\n",
              "  .colab-df-spinner {\n",
              "    border: 2px solid var(--fill-color);\n",
              "    border-color: transparent;\n",
              "    border-bottom-color: var(--fill-color);\n",
              "    animation:\n",
              "      spin 1s steps(1) infinite;\n",
              "  }\n",
              "\n",
              "  @keyframes spin {\n",
              "    0% {\n",
              "      border-color: transparent;\n",
              "      border-bottom-color: var(--fill-color);\n",
              "      border-left-color: var(--fill-color);\n",
              "    }\n",
              "    20% {\n",
              "      border-color: transparent;\n",
              "      border-left-color: var(--fill-color);\n",
              "      border-top-color: var(--fill-color);\n",
              "    }\n",
              "    30% {\n",
              "      border-color: transparent;\n",
              "      border-left-color: var(--fill-color);\n",
              "      border-top-color: var(--fill-color);\n",
              "      border-right-color: var(--fill-color);\n",
              "    }\n",
              "    40% {\n",
              "      border-color: transparent;\n",
              "      border-right-color: var(--fill-color);\n",
              "      border-top-color: var(--fill-color);\n",
              "    }\n",
              "    60% {\n",
              "      border-color: transparent;\n",
              "      border-right-color: var(--fill-color);\n",
              "    }\n",
              "    80% {\n",
              "      border-color: transparent;\n",
              "      border-right-color: var(--fill-color);\n",
              "      border-bottom-color: var(--fill-color);\n",
              "    }\n",
              "    90% {\n",
              "      border-color: transparent;\n",
              "      border-bottom-color: var(--fill-color);\n",
              "    }\n",
              "  }\n",
              "</style>\n",
              "\n",
              "  <script>\n",
              "    async function quickchart(key) {\n",
              "      const quickchartButtonEl =\n",
              "        document.querySelector('#' + key + ' button');\n",
              "      quickchartButtonEl.disabled = true;  // To prevent multiple clicks.\n",
              "      quickchartButtonEl.classList.add('colab-df-spinner');\n",
              "      try {\n",
              "        const charts = await google.colab.kernel.invokeFunction(\n",
              "            'suggestCharts', [key], {});\n",
              "      } catch (error) {\n",
              "        console.error('Error during call to suggestCharts:', error);\n",
              "      }\n",
              "      quickchartButtonEl.classList.remove('colab-df-spinner');\n",
              "      quickchartButtonEl.classList.add('colab-df-quickchart-complete');\n",
              "    }\n",
              "    (() => {\n",
              "      let quickchartButtonEl =\n",
              "        document.querySelector('#df-0717fe92-489f-4fad-a79c-87d7c8b69ec7 button');\n",
              "      quickchartButtonEl.style.display =\n",
              "        google.colab.kernel.accessAllowed ? 'block' : 'none';\n",
              "    })();\n",
              "  </script>\n",
              "</div>\n",
              "    </div>\n",
              "  </div>\n"
            ],
            "application/vnd.google.colaboratory.intrinsic+json": {
              "type": "dataframe",
              "variable_name": "df",
              "summary": "{\n  \"name\": \"df\",\n  \"rows\": 100,\n  \"fields\": [\n    {\n      \"column\": \"CGPA\",\n      \"properties\": {\n        \"dtype\": \"number\",\n        \"std\": 1.1083389154564374,\n        \"min\": 5.4,\n        \"max\": 9.8,\n        \"samples\": [\n          5.7,\n          7.5,\n          8.8\n        ],\n        \"num_unique_values\": 45,\n        \"semantic_type\": \"\",\n        \"description\": \"\"\n      }\n    },\n    {\n      \"column\": \"Profile_Score\",\n      \"properties\": {\n        \"dtype\": \"number\",\n        \"std\": 1.1577215519800919,\n        \"min\": 5.5,\n        \"max\": 9.9,\n        \"samples\": [\n          7.6,\n          6.6,\n          7.3\n        ],\n        \"num_unique_values\": 44,\n        \"semantic_type\": \"\",\n        \"description\": \"\"\n      }\n    },\n    {\n      \"column\": \"Placed\",\n      \"properties\": {\n        \"dtype\": \"number\",\n        \"std\": 0,\n        \"min\": 0,\n        \"max\": 1,\n        \"samples\": [\n          0,\n          1\n        ],\n        \"num_unique_values\": 2,\n        \"semantic_type\": \"\",\n        \"description\": \"\"\n      }\n    }\n  ]\n}"
            }
          },
          "metadata": {},
          "execution_count": 3
        }
      ]
    },
    {
      "cell_type": "code",
      "source": [
        "df.info()"
      ],
      "metadata": {
        "colab": {
          "base_uri": "https://localhost:8080/"
        },
        "id": "GlitDlRsQQ56",
        "outputId": "f3d2eb7d-dbc1-43c2-ec8f-b6d1fb83c2b8"
      },
      "execution_count": null,
      "outputs": [
        {
          "output_type": "stream",
          "name": "stdout",
          "text": [
            "<class 'pandas.core.frame.DataFrame'>\n",
            "RangeIndex: 100 entries, 0 to 99\n",
            "Data columns (total 3 columns):\n",
            " #   Column         Non-Null Count  Dtype  \n",
            "---  ------         --------------  -----  \n",
            " 0   CGPA           100 non-null    float64\n",
            " 1   Profile_Score  100 non-null    float64\n",
            " 2   Placed         100 non-null    int64  \n",
            "dtypes: float64(2), int64(1)\n",
            "memory usage: 2.5 KB\n"
          ]
        }
      ]
    },
    {
      "cell_type": "code",
      "source": [
        "df.duplicated().sum()"
      ],
      "metadata": {
        "colab": {
          "base_uri": "https://localhost:8080/"
        },
        "id": "vAwwAFZnQUqp",
        "outputId": "f04cbc4c-f452-4b99-ed3a-acfbf7ed1e7a"
      },
      "execution_count": null,
      "outputs": [
        {
          "output_type": "execute_result",
          "data": {
            "text/plain": [
              "7"
            ]
          },
          "metadata": {},
          "execution_count": 5
        }
      ]
    },
    {
      "cell_type": "code",
      "source": [
        "df = df.drop_duplicates()"
      ],
      "metadata": {
        "id": "bQfuC--GQcjP"
      },
      "execution_count": null,
      "outputs": []
    },
    {
      "cell_type": "code",
      "source": [
        "df.duplicated().sum()"
      ],
      "metadata": {
        "colab": {
          "base_uri": "https://localhost:8080/"
        },
        "id": "T3PxmazvQdHV",
        "outputId": "476be016-acfc-4e57-9978-d35ca1c85042"
      },
      "execution_count": null,
      "outputs": [
        {
          "output_type": "execute_result",
          "data": {
            "text/plain": [
              "0"
            ]
          },
          "metadata": {},
          "execution_count": 7
        }
      ]
    },
    {
      "cell_type": "code",
      "source": [
        "df.shape"
      ],
      "metadata": {
        "colab": {
          "base_uri": "https://localhost:8080/"
        },
        "id": "smExGIFYQghX",
        "outputId": "801e3945-400a-487e-b747-ab4a78bd34a6"
      },
      "execution_count": null,
      "outputs": [
        {
          "output_type": "execute_result",
          "data": {
            "text/plain": [
              "(93, 3)"
            ]
          },
          "metadata": {},
          "execution_count": 8
        }
      ]
    },
    {
      "cell_type": "code",
      "source": [
        "# Separate features (X) and target variable (y)\n",
        "X = df[['CGPA', 'Profile_Score']]\n",
        "y = df['Placed']\n"
      ],
      "metadata": {
        "id": "lz7gTqZ6QiXJ"
      },
      "execution_count": null,
      "outputs": []
    },
    {
      "cell_type": "code",
      "source": [
        "X.head()"
      ],
      "metadata": {
        "colab": {
          "base_uri": "https://localhost:8080/",
          "height": 206
        },
        "id": "_2piB5QgQlJo",
        "outputId": "a32e02cc-0ae0-407e-acd1-735c8b3e66b9"
      },
      "execution_count": null,
      "outputs": [
        {
          "output_type": "execute_result",
          "data": {
            "text/plain": [
              "   CGPA  Profile_Score\n",
              "0   8.5            9.0\n",
              "1   7.8            8.2\n",
              "2   9.3            9.5\n",
              "3   6.9            7.1\n",
              "4   7.2            6.8"
            ],
            "text/html": [
              "\n",
              "  <div id=\"df-cca3234c-63ae-44f7-8b84-259dbc8b1e54\" class=\"colab-df-container\">\n",
              "    <div>\n",
              "<style scoped>\n",
              "    .dataframe tbody tr th:only-of-type {\n",
              "        vertical-align: middle;\n",
              "    }\n",
              "\n",
              "    .dataframe tbody tr th {\n",
              "        vertical-align: top;\n",
              "    }\n",
              "\n",
              "    .dataframe thead th {\n",
              "        text-align: right;\n",
              "    }\n",
              "</style>\n",
              "<table border=\"1\" class=\"dataframe\">\n",
              "  <thead>\n",
              "    <tr style=\"text-align: right;\">\n",
              "      <th></th>\n",
              "      <th>CGPA</th>\n",
              "      <th>Profile_Score</th>\n",
              "    </tr>\n",
              "  </thead>\n",
              "  <tbody>\n",
              "    <tr>\n",
              "      <th>0</th>\n",
              "      <td>8.5</td>\n",
              "      <td>9.0</td>\n",
              "    </tr>\n",
              "    <tr>\n",
              "      <th>1</th>\n",
              "      <td>7.8</td>\n",
              "      <td>8.2</td>\n",
              "    </tr>\n",
              "    <tr>\n",
              "      <th>2</th>\n",
              "      <td>9.3</td>\n",
              "      <td>9.5</td>\n",
              "    </tr>\n",
              "    <tr>\n",
              "      <th>3</th>\n",
              "      <td>6.9</td>\n",
              "      <td>7.1</td>\n",
              "    </tr>\n",
              "    <tr>\n",
              "      <th>4</th>\n",
              "      <td>7.2</td>\n",
              "      <td>6.8</td>\n",
              "    </tr>\n",
              "  </tbody>\n",
              "</table>\n",
              "</div>\n",
              "    <div class=\"colab-df-buttons\">\n",
              "\n",
              "  <div class=\"colab-df-container\">\n",
              "    <button class=\"colab-df-convert\" onclick=\"convertToInteractive('df-cca3234c-63ae-44f7-8b84-259dbc8b1e54')\"\n",
              "            title=\"Convert this dataframe to an interactive table.\"\n",
              "            style=\"display:none;\">\n",
              "\n",
              "  <svg xmlns=\"http://www.w3.org/2000/svg\" height=\"24px\" viewBox=\"0 -960 960 960\">\n",
              "    <path d=\"M120-120v-720h720v720H120Zm60-500h600v-160H180v160Zm220 220h160v-160H400v160Zm0 220h160v-160H400v160ZM180-400h160v-160H180v160Zm440 0h160v-160H620v160ZM180-180h160v-160H180v160Zm440 0h160v-160H620v160Z\"/>\n",
              "  </svg>\n",
              "    </button>\n",
              "\n",
              "  <style>\n",
              "    .colab-df-container {\n",
              "      display:flex;\n",
              "      gap: 12px;\n",
              "    }\n",
              "\n",
              "    .colab-df-convert {\n",
              "      background-color: #E8F0FE;\n",
              "      border: none;\n",
              "      border-radius: 50%;\n",
              "      cursor: pointer;\n",
              "      display: none;\n",
              "      fill: #1967D2;\n",
              "      height: 32px;\n",
              "      padding: 0 0 0 0;\n",
              "      width: 32px;\n",
              "    }\n",
              "\n",
              "    .colab-df-convert:hover {\n",
              "      background-color: #E2EBFA;\n",
              "      box-shadow: 0px 1px 2px rgba(60, 64, 67, 0.3), 0px 1px 3px 1px rgba(60, 64, 67, 0.15);\n",
              "      fill: #174EA6;\n",
              "    }\n",
              "\n",
              "    .colab-df-buttons div {\n",
              "      margin-bottom: 4px;\n",
              "    }\n",
              "\n",
              "    [theme=dark] .colab-df-convert {\n",
              "      background-color: #3B4455;\n",
              "      fill: #D2E3FC;\n",
              "    }\n",
              "\n",
              "    [theme=dark] .colab-df-convert:hover {\n",
              "      background-color: #434B5C;\n",
              "      box-shadow: 0px 1px 3px 1px rgba(0, 0, 0, 0.15);\n",
              "      filter: drop-shadow(0px 1px 2px rgba(0, 0, 0, 0.3));\n",
              "      fill: #FFFFFF;\n",
              "    }\n",
              "  </style>\n",
              "\n",
              "    <script>\n",
              "      const buttonEl =\n",
              "        document.querySelector('#df-cca3234c-63ae-44f7-8b84-259dbc8b1e54 button.colab-df-convert');\n",
              "      buttonEl.style.display =\n",
              "        google.colab.kernel.accessAllowed ? 'block' : 'none';\n",
              "\n",
              "      async function convertToInteractive(key) {\n",
              "        const element = document.querySelector('#df-cca3234c-63ae-44f7-8b84-259dbc8b1e54');\n",
              "        const dataTable =\n",
              "          await google.colab.kernel.invokeFunction('convertToInteractive',\n",
              "                                                    [key], {});\n",
              "        if (!dataTable) return;\n",
              "\n",
              "        const docLinkHtml = 'Like what you see? Visit the ' +\n",
              "          '<a target=\"_blank\" href=https://colab.research.google.com/notebooks/data_table.ipynb>data table notebook</a>'\n",
              "          + ' to learn more about interactive tables.';\n",
              "        element.innerHTML = '';\n",
              "        dataTable['output_type'] = 'display_data';\n",
              "        await google.colab.output.renderOutput(dataTable, element);\n",
              "        const docLink = document.createElement('div');\n",
              "        docLink.innerHTML = docLinkHtml;\n",
              "        element.appendChild(docLink);\n",
              "      }\n",
              "    </script>\n",
              "  </div>\n",
              "\n",
              "\n",
              "<div id=\"df-8900f549-07bf-4a4e-980f-bbd17685f65f\">\n",
              "  <button class=\"colab-df-quickchart\" onclick=\"quickchart('df-8900f549-07bf-4a4e-980f-bbd17685f65f')\"\n",
              "            title=\"Suggest charts\"\n",
              "            style=\"display:none;\">\n",
              "\n",
              "<svg xmlns=\"http://www.w3.org/2000/svg\" height=\"24px\"viewBox=\"0 0 24 24\"\n",
              "     width=\"24px\">\n",
              "    <g>\n",
              "        <path d=\"M19 3H5c-1.1 0-2 .9-2 2v14c0 1.1.9 2 2 2h14c1.1 0 2-.9 2-2V5c0-1.1-.9-2-2-2zM9 17H7v-7h2v7zm4 0h-2V7h2v10zm4 0h-2v-4h2v4z\"/>\n",
              "    </g>\n",
              "</svg>\n",
              "  </button>\n",
              "\n",
              "<style>\n",
              "  .colab-df-quickchart {\n",
              "      --bg-color: #E8F0FE;\n",
              "      --fill-color: #1967D2;\n",
              "      --hover-bg-color: #E2EBFA;\n",
              "      --hover-fill-color: #174EA6;\n",
              "      --disabled-fill-color: #AAA;\n",
              "      --disabled-bg-color: #DDD;\n",
              "  }\n",
              "\n",
              "  [theme=dark] .colab-df-quickchart {\n",
              "      --bg-color: #3B4455;\n",
              "      --fill-color: #D2E3FC;\n",
              "      --hover-bg-color: #434B5C;\n",
              "      --hover-fill-color: #FFFFFF;\n",
              "      --disabled-bg-color: #3B4455;\n",
              "      --disabled-fill-color: #666;\n",
              "  }\n",
              "\n",
              "  .colab-df-quickchart {\n",
              "    background-color: var(--bg-color);\n",
              "    border: none;\n",
              "    border-radius: 50%;\n",
              "    cursor: pointer;\n",
              "    display: none;\n",
              "    fill: var(--fill-color);\n",
              "    height: 32px;\n",
              "    padding: 0;\n",
              "    width: 32px;\n",
              "  }\n",
              "\n",
              "  .colab-df-quickchart:hover {\n",
              "    background-color: var(--hover-bg-color);\n",
              "    box-shadow: 0 1px 2px rgba(60, 64, 67, 0.3), 0 1px 3px 1px rgba(60, 64, 67, 0.15);\n",
              "    fill: var(--button-hover-fill-color);\n",
              "  }\n",
              "\n",
              "  .colab-df-quickchart-complete:disabled,\n",
              "  .colab-df-quickchart-complete:disabled:hover {\n",
              "    background-color: var(--disabled-bg-color);\n",
              "    fill: var(--disabled-fill-color);\n",
              "    box-shadow: none;\n",
              "  }\n",
              "\n",
              "  .colab-df-spinner {\n",
              "    border: 2px solid var(--fill-color);\n",
              "    border-color: transparent;\n",
              "    border-bottom-color: var(--fill-color);\n",
              "    animation:\n",
              "      spin 1s steps(1) infinite;\n",
              "  }\n",
              "\n",
              "  @keyframes spin {\n",
              "    0% {\n",
              "      border-color: transparent;\n",
              "      border-bottom-color: var(--fill-color);\n",
              "      border-left-color: var(--fill-color);\n",
              "    }\n",
              "    20% {\n",
              "      border-color: transparent;\n",
              "      border-left-color: var(--fill-color);\n",
              "      border-top-color: var(--fill-color);\n",
              "    }\n",
              "    30% {\n",
              "      border-color: transparent;\n",
              "      border-left-color: var(--fill-color);\n",
              "      border-top-color: var(--fill-color);\n",
              "      border-right-color: var(--fill-color);\n",
              "    }\n",
              "    40% {\n",
              "      border-color: transparent;\n",
              "      border-right-color: var(--fill-color);\n",
              "      border-top-color: var(--fill-color);\n",
              "    }\n",
              "    60% {\n",
              "      border-color: transparent;\n",
              "      border-right-color: var(--fill-color);\n",
              "    }\n",
              "    80% {\n",
              "      border-color: transparent;\n",
              "      border-right-color: var(--fill-color);\n",
              "      border-bottom-color: var(--fill-color);\n",
              "    }\n",
              "    90% {\n",
              "      border-color: transparent;\n",
              "      border-bottom-color: var(--fill-color);\n",
              "    }\n",
              "  }\n",
              "</style>\n",
              "\n",
              "  <script>\n",
              "    async function quickchart(key) {\n",
              "      const quickchartButtonEl =\n",
              "        document.querySelector('#' + key + ' button');\n",
              "      quickchartButtonEl.disabled = true;  // To prevent multiple clicks.\n",
              "      quickchartButtonEl.classList.add('colab-df-spinner');\n",
              "      try {\n",
              "        const charts = await google.colab.kernel.invokeFunction(\n",
              "            'suggestCharts', [key], {});\n",
              "      } catch (error) {\n",
              "        console.error('Error during call to suggestCharts:', error);\n",
              "      }\n",
              "      quickchartButtonEl.classList.remove('colab-df-spinner');\n",
              "      quickchartButtonEl.classList.add('colab-df-quickchart-complete');\n",
              "    }\n",
              "    (() => {\n",
              "      let quickchartButtonEl =\n",
              "        document.querySelector('#df-8900f549-07bf-4a4e-980f-bbd17685f65f button');\n",
              "      quickchartButtonEl.style.display =\n",
              "        google.colab.kernel.accessAllowed ? 'block' : 'none';\n",
              "    })();\n",
              "  </script>\n",
              "</div>\n",
              "    </div>\n",
              "  </div>\n"
            ],
            "application/vnd.google.colaboratory.intrinsic+json": {
              "type": "dataframe",
              "variable_name": "X",
              "summary": "{\n  \"name\": \"X\",\n  \"rows\": 93,\n  \"fields\": [\n    {\n      \"column\": \"CGPA\",\n      \"properties\": {\n        \"dtype\": \"number\",\n        \"std\": 1.1366241445626628,\n        \"min\": 5.4,\n        \"max\": 9.8,\n        \"samples\": [\n          5.7,\n          7.5,\n          8.8\n        ],\n        \"num_unique_values\": 45,\n        \"semantic_type\": \"\",\n        \"description\": \"\"\n      }\n    },\n    {\n      \"column\": \"Profile_Score\",\n      \"properties\": {\n        \"dtype\": \"number\",\n        \"std\": 1.1858829508309532,\n        \"min\": 5.5,\n        \"max\": 9.9,\n        \"samples\": [\n          7.6,\n          6.6,\n          7.3\n        ],\n        \"num_unique_values\": 44,\n        \"semantic_type\": \"\",\n        \"description\": \"\"\n      }\n    }\n  ]\n}"
            }
          },
          "metadata": {},
          "execution_count": 10
        }
      ]
    },
    {
      "cell_type": "code",
      "source": [
        "y\n"
      ],
      "metadata": {
        "colab": {
          "base_uri": "https://localhost:8080/"
        },
        "id": "6oXOMi60Qqax",
        "outputId": "f1ebb177-64a6-4be0-a892-d90b0da9f96d"
      },
      "execution_count": null,
      "outputs": [
        {
          "output_type": "execute_result",
          "data": {
            "text/plain": [
              "0     1\n",
              "1     1\n",
              "2     1\n",
              "3     0\n",
              "4     0\n",
              "     ..\n",
              "94    0\n",
              "95    0\n",
              "96    1\n",
              "97    0\n",
              "98    0\n",
              "Name: Placed, Length: 93, dtype: int64"
            ]
          },
          "metadata": {},
          "execution_count": 11
        }
      ]
    },
    {
      "cell_type": "code",
      "source": [
        "# Step 2: Build the Neural Network Model\n",
        "model = Sequential()\n",
        "model.add(Dense(4, input_dim=2, activation='relu')) # Input layer with 2 neurons\n",
        "model.add(Dense(4, activation='relu')) # Hidden layer with 4 neurons\n",
        "model.add(Dense(1, activation='sigmoid')) # Output layer with 1 neuron\n"
      ],
      "metadata": {
        "id": "IOxnhkobQtSv"
      },
      "execution_count": null,
      "outputs": []
    },
    {
      "cell_type": "code",
      "source": [
        "model.summary()"
      ],
      "metadata": {
        "colab": {
          "base_uri": "https://localhost:8080/"
        },
        "id": "XZ05fAJbQyy5",
        "outputId": "248f9b7d-4683-491c-c985-e759150bff17"
      },
      "execution_count": null,
      "outputs": [
        {
          "output_type": "stream",
          "name": "stdout",
          "text": [
            "Model: \"sequential\"\n",
            "_________________________________________________________________\n",
            " Layer (type)                Output Shape              Param #   \n",
            "=================================================================\n",
            " dense (Dense)               (None, 4)                 12        \n",
            "                                                                 \n",
            " dense_1 (Dense)             (None, 4)                 20        \n",
            "                                                                 \n",
            " dense_2 (Dense)             (None, 1)                 5         \n",
            "                                                                 \n",
            "=================================================================\n",
            "Total params: 37 (148.00 Byte)\n",
            "Trainable params: 37 (148.00 Byte)\n",
            "Non-trainable params: 0 (0.00 Byte)\n",
            "_________________________________________________________________\n"
          ]
        }
      ]
    },
    {
      "cell_type": "code",
      "source": [
        "model.get_weights()"
      ],
      "metadata": {
        "colab": {
          "base_uri": "https://localhost:8080/"
        },
        "id": "Cts5L0wTQ0rc",
        "outputId": "7d823ba0-96b9-4acc-d63d-e066116c3691"
      },
      "execution_count": null,
      "outputs": [
        {
          "output_type": "execute_result",
          "data": {
            "text/plain": [
              "[array([[-0.44741583, -0.43137813, -0.82440925,  0.832407  ],\n",
              "        [-0.00571537, -0.64366317,  0.5158541 , -0.6224859 ]],\n",
              "       dtype=float32),\n",
              " array([0., 0., 0., 0.], dtype=float32),\n",
              " array([[ 0.7573778 , -0.1118921 ,  0.5338238 ,  0.74574345],\n",
              "        [-0.30478293,  0.51895696, -0.05755907,  0.15408188],\n",
              "        [ 0.51521534, -0.8301885 ,  0.67376584,  0.05203867],\n",
              "        [ 0.59218735,  0.35199875, -0.46249384,  0.142371  ]],\n",
              "       dtype=float32),\n",
              " array([0., 0., 0., 0.], dtype=float32),\n",
              " array([[-0.14829749],\n",
              "        [-0.44404203],\n",
              "        [-0.5087815 ],\n",
              "        [-0.65386546]], dtype=float32),\n",
              " array([0.], dtype=float32)]"
            ]
          },
          "metadata": {},
          "execution_count": 14
        }
      ]
    },
    {
      "cell_type": "code",
      "source": [
        "# Compile the model\n",
        "model.compile(loss='binary_crossentropy', optimizer='adam', metrics=['accuracy'])"
      ],
      "metadata": {
        "id": "yJXeqc3YQ36C"
      },
      "execution_count": null,
      "outputs": []
    },
    {
      "cell_type": "code",
      "source": [
        "# Step 3: Train the Model\n",
        "history = model.fit(X, y, epochs=100, batch_size=1, verbose=1)"
      ],
      "metadata": {
        "colab": {
          "base_uri": "https://localhost:8080/"
        },
        "id": "9UeYp8YZQ_yT",
        "outputId": "de6534a4-da22-481c-85ff-940ac0463bf3"
      },
      "execution_count": null,
      "outputs": [
        {
          "output_type": "stream",
          "name": "stdout",
          "text": [
            "Epoch 1/100\n",
            "93/93 [==============================] - 1s 1ms/step - loss: 0.7586 - accuracy: 0.4194\n",
            "Epoch 2/100\n",
            "93/93 [==============================] - 0s 1ms/step - loss: 0.7121 - accuracy: 0.3548\n",
            "Epoch 3/100\n",
            "93/93 [==============================] - 0s 1ms/step - loss: 0.6944 - accuracy: 0.4731\n",
            "Epoch 4/100\n",
            "93/93 [==============================] - 0s 1ms/step - loss: 0.6885 - accuracy: 0.5806\n",
            "Epoch 5/100\n",
            "93/93 [==============================] - 0s 1ms/step - loss: 0.6873 - accuracy: 0.5806\n",
            "Epoch 6/100\n",
            "93/93 [==============================] - 0s 1ms/step - loss: 0.6868 - accuracy: 0.5806\n",
            "Epoch 7/100\n",
            "93/93 [==============================] - 0s 1ms/step - loss: 0.6859 - accuracy: 0.5806\n",
            "Epoch 8/100\n",
            "93/93 [==============================] - 0s 1ms/step - loss: 0.6853 - accuracy: 0.5806\n",
            "Epoch 9/100\n",
            "93/93 [==============================] - 0s 1ms/step - loss: 0.6849 - accuracy: 0.5806\n",
            "Epoch 10/100\n",
            "93/93 [==============================] - 0s 1ms/step - loss: 0.6841 - accuracy: 0.5806\n",
            "Epoch 11/100\n",
            "93/93 [==============================] - 0s 1ms/step - loss: 0.6836 - accuracy: 0.5806\n",
            "Epoch 12/100\n",
            "93/93 [==============================] - 0s 1ms/step - loss: 0.6831 - accuracy: 0.5806\n",
            "Epoch 13/100\n",
            "93/93 [==============================] - 0s 1ms/step - loss: 0.6825 - accuracy: 0.5806\n",
            "Epoch 14/100\n",
            "93/93 [==============================] - 0s 1ms/step - loss: 0.6822 - accuracy: 0.5806\n",
            "Epoch 15/100\n",
            "93/93 [==============================] - 0s 1ms/step - loss: 0.6818 - accuracy: 0.5806\n",
            "Epoch 16/100\n",
            "93/93 [==============================] - 0s 1ms/step - loss: 0.6815 - accuracy: 0.5806\n",
            "Epoch 17/100\n",
            "93/93 [==============================] - 0s 1ms/step - loss: 0.6816 - accuracy: 0.5806\n",
            "Epoch 18/100\n",
            "93/93 [==============================] - 0s 1ms/step - loss: 0.6810 - accuracy: 0.5806\n",
            "Epoch 19/100\n",
            "93/93 [==============================] - 0s 1ms/step - loss: 0.6801 - accuracy: 0.5806\n",
            "Epoch 20/100\n",
            "93/93 [==============================] - 0s 1ms/step - loss: 0.6798 - accuracy: 0.5806\n",
            "Epoch 21/100\n",
            "93/93 [==============================] - 0s 1ms/step - loss: 0.6800 - accuracy: 0.5806\n",
            "Epoch 22/100\n",
            "93/93 [==============================] - 0s 1ms/step - loss: 0.6793 - accuracy: 0.5806\n",
            "Epoch 23/100\n",
            "93/93 [==============================] - 0s 1ms/step - loss: 0.6792 - accuracy: 0.5806\n",
            "Epoch 24/100\n",
            "93/93 [==============================] - 0s 1ms/step - loss: 0.6786 - accuracy: 0.5806\n",
            "Epoch 25/100\n",
            "93/93 [==============================] - 0s 1ms/step - loss: 0.6786 - accuracy: 0.5806\n",
            "Epoch 26/100\n",
            "93/93 [==============================] - 0s 1ms/step - loss: 0.6782 - accuracy: 0.5806\n",
            "Epoch 27/100\n",
            "93/93 [==============================] - 0s 1ms/step - loss: 0.6778 - accuracy: 0.5806\n",
            "Epoch 28/100\n",
            "93/93 [==============================] - 0s 2ms/step - loss: 0.6779 - accuracy: 0.5806\n",
            "Epoch 29/100\n",
            "93/93 [==============================] - 0s 2ms/step - loss: 0.6773 - accuracy: 0.5806\n",
            "Epoch 30/100\n",
            "93/93 [==============================] - 0s 2ms/step - loss: 0.6790 - accuracy: 0.5806\n",
            "Epoch 31/100\n",
            "93/93 [==============================] - 0s 2ms/step - loss: 0.6767 - accuracy: 0.5806\n",
            "Epoch 32/100\n",
            "93/93 [==============================] - 0s 2ms/step - loss: 0.6757 - accuracy: 0.5806\n",
            "Epoch 33/100\n",
            "93/93 [==============================] - 0s 1ms/step - loss: 0.6766 - accuracy: 0.5806\n",
            "Epoch 34/100\n",
            "93/93 [==============================] - 0s 2ms/step - loss: 0.6752 - accuracy: 0.5806\n",
            "Epoch 35/100\n",
            "93/93 [==============================] - 0s 2ms/step - loss: 0.6739 - accuracy: 0.5806\n",
            "Epoch 36/100\n",
            "93/93 [==============================] - 0s 1ms/step - loss: 0.6755 - accuracy: 0.5914\n",
            "Epoch 37/100\n",
            "93/93 [==============================] - 0s 2ms/step - loss: 0.6736 - accuracy: 0.5806\n",
            "Epoch 38/100\n",
            "93/93 [==============================] - 0s 2ms/step - loss: 0.6735 - accuracy: 0.5806\n",
            "Epoch 39/100\n",
            "93/93 [==============================] - 0s 1ms/step - loss: 0.6763 - accuracy: 0.5806\n",
            "Epoch 40/100\n",
            "93/93 [==============================] - 0s 1ms/step - loss: 0.6732 - accuracy: 0.5806\n",
            "Epoch 41/100\n",
            "93/93 [==============================] - 0s 1ms/step - loss: 0.6717 - accuracy: 0.5806\n",
            "Epoch 42/100\n",
            "93/93 [==============================] - 0s 1ms/step - loss: 0.6703 - accuracy: 0.6022\n",
            "Epoch 43/100\n",
            "93/93 [==============================] - 0s 1ms/step - loss: 0.6700 - accuracy: 0.6237\n",
            "Epoch 44/100\n",
            "93/93 [==============================] - 0s 1ms/step - loss: 0.6707 - accuracy: 0.6022\n",
            "Epoch 45/100\n",
            "93/93 [==============================] - 0s 1ms/step - loss: 0.6667 - accuracy: 0.6022\n",
            "Epoch 46/100\n",
            "93/93 [==============================] - 0s 1ms/step - loss: 0.6695 - accuracy: 0.6237\n",
            "Epoch 47/100\n",
            "93/93 [==============================] - 0s 1ms/step - loss: 0.6661 - accuracy: 0.6129\n",
            "Epoch 48/100\n",
            "93/93 [==============================] - 0s 1ms/step - loss: 0.6673 - accuracy: 0.5914\n",
            "Epoch 49/100\n",
            "93/93 [==============================] - 0s 1ms/step - loss: 0.6665 - accuracy: 0.6344\n",
            "Epoch 50/100\n",
            "93/93 [==============================] - 0s 1ms/step - loss: 0.6651 - accuracy: 0.5914\n",
            "Epoch 51/100\n",
            "93/93 [==============================] - 0s 1ms/step - loss: 0.6652 - accuracy: 0.6237\n",
            "Epoch 52/100\n",
            "93/93 [==============================] - 0s 1ms/step - loss: 0.6641 - accuracy: 0.6022\n",
            "Epoch 53/100\n",
            "93/93 [==============================] - 0s 1ms/step - loss: 0.6616 - accuracy: 0.6022\n",
            "Epoch 54/100\n",
            "93/93 [==============================] - 0s 1ms/step - loss: 0.6594 - accuracy: 0.6559\n",
            "Epoch 55/100\n",
            "93/93 [==============================] - 0s 1ms/step - loss: 0.6625 - accuracy: 0.6129\n",
            "Epoch 56/100\n",
            "93/93 [==============================] - 0s 1ms/step - loss: 0.6566 - accuracy: 0.6237\n",
            "Epoch 57/100\n",
            "93/93 [==============================] - 0s 1ms/step - loss: 0.6543 - accuracy: 0.6344\n",
            "Epoch 58/100\n",
            "93/93 [==============================] - 0s 1ms/step - loss: 0.6534 - accuracy: 0.6559\n",
            "Epoch 59/100\n",
            "93/93 [==============================] - 0s 1ms/step - loss: 0.6528 - accuracy: 0.6667\n",
            "Epoch 60/100\n",
            "93/93 [==============================] - 0s 1ms/step - loss: 0.6500 - accuracy: 0.6452\n",
            "Epoch 61/100\n",
            "93/93 [==============================] - 0s 1ms/step - loss: 0.6488 - accuracy: 0.6667\n",
            "Epoch 62/100\n",
            "93/93 [==============================] - 0s 1ms/step - loss: 0.6453 - accuracy: 0.6344\n",
            "Epoch 63/100\n",
            "93/93 [==============================] - 0s 1ms/step - loss: 0.6486 - accuracy: 0.6237\n",
            "Epoch 64/100\n",
            "93/93 [==============================] - 0s 1ms/step - loss: 0.6433 - accuracy: 0.6559\n",
            "Epoch 65/100\n",
            "93/93 [==============================] - 0s 1ms/step - loss: 0.6381 - accuracy: 0.6559\n",
            "Epoch 66/100\n",
            "93/93 [==============================] - 0s 1ms/step - loss: 0.6367 - accuracy: 0.6559\n",
            "Epoch 67/100\n",
            "93/93 [==============================] - 0s 1ms/step - loss: 0.6408 - accuracy: 0.6989\n",
            "Epoch 68/100\n",
            "93/93 [==============================] - 0s 1ms/step - loss: 0.6336 - accuracy: 0.6667\n",
            "Epoch 69/100\n",
            "93/93 [==============================] - 0s 997us/step - loss: 0.6334 - accuracy: 0.6559\n",
            "Epoch 70/100\n",
            "93/93 [==============================] - 0s 988us/step - loss: 0.6301 - accuracy: 0.6559\n",
            "Epoch 71/100\n",
            "93/93 [==============================] - 0s 1ms/step - loss: 0.6279 - accuracy: 0.6559\n",
            "Epoch 72/100\n",
            "93/93 [==============================] - 0s 1ms/step - loss: 0.6297 - accuracy: 0.6452\n",
            "Epoch 73/100\n",
            "93/93 [==============================] - 0s 1ms/step - loss: 0.6224 - accuracy: 0.6559\n",
            "Epoch 74/100\n",
            "93/93 [==============================] - 0s 1ms/step - loss: 0.6219 - accuracy: 0.6559\n",
            "Epoch 75/100\n",
            "93/93 [==============================] - 0s 1ms/step - loss: 0.6262 - accuracy: 0.6774\n",
            "Epoch 76/100\n",
            "93/93 [==============================] - 0s 1ms/step - loss: 0.6161 - accuracy: 0.6667\n",
            "Epoch 77/100\n",
            "93/93 [==============================] - 0s 1ms/step - loss: 0.6235 - accuracy: 0.6559\n",
            "Epoch 78/100\n",
            "93/93 [==============================] - 0s 1ms/step - loss: 0.6128 - accuracy: 0.6452\n",
            "Epoch 79/100\n",
            "93/93 [==============================] - 0s 1ms/step - loss: 0.6166 - accuracy: 0.6452\n",
            "Epoch 80/100\n",
            "93/93 [==============================] - 0s 1ms/step - loss: 0.6084 - accuracy: 0.6667\n",
            "Epoch 81/100\n",
            "93/93 [==============================] - 0s 1ms/step - loss: 0.6082 - accuracy: 0.6559\n",
            "Epoch 82/100\n",
            "93/93 [==============================] - 0s 1ms/step - loss: 0.5987 - accuracy: 0.6989\n",
            "Epoch 83/100\n",
            "93/93 [==============================] - 0s 1ms/step - loss: 0.6041 - accuracy: 0.6559\n",
            "Epoch 84/100\n",
            "93/93 [==============================] - 0s 1ms/step - loss: 0.6035 - accuracy: 0.6882\n",
            "Epoch 85/100\n",
            "93/93 [==============================] - 0s 1ms/step - loss: 0.5936 - accuracy: 0.6882\n",
            "Epoch 86/100\n",
            "93/93 [==============================] - 0s 1ms/step - loss: 0.5993 - accuracy: 0.6989\n",
            "Epoch 87/100\n",
            "93/93 [==============================] - 0s 1ms/step - loss: 0.5848 - accuracy: 0.7097\n",
            "Epoch 88/100\n",
            "93/93 [==============================] - 0s 1ms/step - loss: 0.5901 - accuracy: 0.6882\n",
            "Epoch 89/100\n",
            "93/93 [==============================] - 0s 1ms/step - loss: 0.5911 - accuracy: 0.6774\n",
            "Epoch 90/100\n",
            "93/93 [==============================] - 0s 1ms/step - loss: 0.5888 - accuracy: 0.7204\n",
            "Epoch 91/100\n",
            "93/93 [==============================] - 0s 1ms/step - loss: 0.5859 - accuracy: 0.7097\n",
            "Epoch 92/100\n",
            "93/93 [==============================] - 0s 1ms/step - loss: 0.5811 - accuracy: 0.6989\n",
            "Epoch 93/100\n",
            "93/93 [==============================] - 0s 1ms/step - loss: 0.5814 - accuracy: 0.7204\n",
            "Epoch 94/100\n",
            "93/93 [==============================] - 0s 1ms/step - loss: 0.5786 - accuracy: 0.6667\n",
            "Epoch 95/100\n",
            "93/93 [==============================] - 0s 1ms/step - loss: 0.5708 - accuracy: 0.7097\n",
            "Epoch 96/100\n",
            "93/93 [==============================] - 0s 1ms/step - loss: 0.5720 - accuracy: 0.6882\n",
            "Epoch 97/100\n",
            "93/93 [==============================] - 0s 1ms/step - loss: 0.5716 - accuracy: 0.7419\n",
            "Epoch 98/100\n",
            "93/93 [==============================] - 0s 1ms/step - loss: 0.5689 - accuracy: 0.7097\n",
            "Epoch 99/100\n",
            "93/93 [==============================] - 0s 1ms/step - loss: 0.5617 - accuracy: 0.7204\n",
            "Epoch 100/100\n",
            "93/93 [==============================] - 0s 1ms/step - loss: 0.5644 - accuracy: 0.7419\n"
          ]
        }
      ]
    },
    {
      "cell_type": "code",
      "source": [
        "# Evaluate the model\n",
        "loss, accuracy = model.evaluate(X, y)\n",
        "print(f'Loss: {loss}, Accuracy: {accuracy}')"
      ],
      "metadata": {
        "colab": {
          "base_uri": "https://localhost:8080/"
        },
        "id": "qohEwsEuRAYF",
        "outputId": "7b0a1995-a7e9-41c1-be2e-8d838fcdf5d8"
      },
      "execution_count": null,
      "outputs": [
        {
          "output_type": "stream",
          "name": "stdout",
          "text": [
            "3/3 [==============================] - 0s 7ms/step - loss: 0.5546 - accuracy: 0.7419\n",
            "Loss: 0.5545839071273804, Accuracy: 0.7419354915618896\n"
          ]
        }
      ]
    },
    {
      "cell_type": "code",
      "source": [
        "# Plot the training loss\n",
        "import matplotlib.pyplot as plt\n",
        "plt.plot(history.history['loss'])\n",
        "plt.title('Model Loss')\n",
        "plt.xlabel('Epochs')\n",
        "plt.ylabel('Loss')\n",
        "plt.show()\n"
      ],
      "metadata": {
        "colab": {
          "base_uri": "https://localhost:8080/",
          "height": 472
        },
        "id": "77k3GeqKRHwF",
        "outputId": "c457327e-db95-4a8e-ef96-8e4fe088dd03"
      },
      "execution_count": null,
      "outputs": [
        {
          "output_type": "display_data",
          "data": {
            "text/plain": [
              "<Figure size 640x480 with 1 Axes>"
            ],
            "image/png": "[encoded data removed]"
          },
          "metadata": {}
        }
      ]
    },
    {
      "cell_type": "code",
      "source": [
        "# Plot the training accuracy\n",
        "plt.plot(history.history['accuracy'])\n",
        "plt.title('Model Accuracy')\n",
        "plt.xlabel('Epochs')\n",
        "plt.ylabel('Accuracy')\n",
        "plt.show()"
      ],
      "metadata": {
        "colab": {
          "base_uri": "https://localhost:8080/",
          "height": 472
        },
        "id": "a3TvmjcaRKe0",
        "outputId": "cd3ae646-cf24-4aaf-f7fa-5a65256e3434"
      },
      "execution_count": null,
      "outputs": [
        {
          "output_type": "display_data",
          "data": {
            "text/plain": [
              "<Figure size 640x480 with 1 Axes>"
            ],
            "image/png": "[encoded data removed]"
          },
          "metadata": {}
        }
      ]
    },
    {
      "cell_type": "code",
      "source": [
        "# Get the weights and biases of all layers\n",
        "weights_biases = []\n",
        "for layer in model.layers:\n",
        " weights_biases.append(layer.get_weights())"
      ],
      "metadata": {
        "id": "1oxbac-BRNEl"
      },
      "execution_count": null,
      "outputs": []
    },
    {
      "cell_type": "code",
      "source": [
        "# Print the weights and biases of each layer\n",
        "for i, (weights, biases) in enumerate(weights_biases):\n",
        "  print(f\"Layer {i + 1} Weights:\")\n",
        "  print(weights)\n",
        "  print(f\"Layer {i + 1} Biases:\")\n",
        "  print(biases)"
      ],
      "metadata": {
        "colab": {
          "base_uri": "https://localhost:8080/"
        },
        "id": "cpIettzLRQns",
        "outputId": "881ab5f2-6667-4ac4-91ec-ef5cdbaedd55"
      },
      "execution_count": null,
      "outputs": [
        {
          "output_type": "stream",
          "name": "stdout",
          "text": [
            "Layer 1 Weights:\n",
            "[[-0.44741583 -0.43137813 -0.82440925  0.69436634]\n",
            " [-0.00571537 -0.64366317  0.5158541  -0.77199596]]\n",
            "Layer 1 Biases:\n",
            "[0.        0.        0.        0.8416887]\n",
            "Layer 2 Weights:\n",
            "[[ 0.7573778  -0.1118921   0.5338238   0.74574345]\n",
            " [-0.30478293  0.51895696 -0.05755907  0.15408188]\n",
            " [ 0.51521534 -0.8301885   0.67376584  0.05203867]\n",
            " [ 1.6169292   1.2857666  -0.46249384  0.48307848]]\n",
            "Layer 2 Biases:\n",
            "[-0.00082797 -0.00040075  0.         -0.00107745]\n",
            "Layer 3 Weights:\n",
            "[[-1.0490447]\n",
            " [-1.370959 ]\n",
            " [-0.5087815]\n",
            " [-0.9375921]]\n",
            "Layer 3 Biases:\n",
            "[0.7645978]\n"
          ]
        }
      ]
    },
    {
      "cell_type": "code",
      "source": [
        "#predict for new data using our model\n",
        "import numpy as np\n",
        "new_data = np.array([[8.1, 6.1]])\n",
        "prediction = model.predict(new_data)"
      ],
      "metadata": {
        "colab": {
          "base_uri": "https://localhost:8080/"
        },
        "id": "M57Dx7oqRay2",
        "outputId": "1c71b183-e3a3-4c63-d91e-2246a1e9ac69"
      },
      "execution_count": null,
      "outputs": [
        {
          "output_type": "stream",
          "name": "stdout",
          "text": [
            "1/1 [==============================] - 0s 113ms/step\n"
          ]
        }
      ]
    },
    {
      "cell_type": "code",
      "source": [
        "prediction"
      ],
      "metadata": {
        "colab": {
          "base_uri": "https://localhost:8080/"
        },
        "id": "ucfC8yGfRj_v",
        "outputId": "a9b40d25-417a-42d3-bda9-6e4227d283bb"
      },
      "execution_count": null,
      "outputs": [
        {
          "output_type": "execute_result",
          "data": {
            "text/plain": [
              "array([[0.00222514]], dtype=float32)"
            ]
          },
          "metadata": {},
          "execution_count": 26
        }
      ]
    },
    {
      "cell_type": "code",
      "source": [
        "prediction_binary = (prediction > 0.5).astype(int)\n",
        "print(\"Prediction:\", prediction_binary)"
      ],
      "metadata": {
        "id": "q1cHxXAHRoyD",
        "outputId": "10c9214c-62f4-4495-da61-7f626b61dfa4",
        "colab": {
          "base_uri": "https://localhost:8080/"
        }
      },
      "execution_count": null,
      "outputs": [
        {
          "output_type": "stream",
          "name": "stdout",
          "text": [
            "Prediction: [[0]]\n"
          ]
        }
      ]
    },
    {
      "cell_type": "code",
      "source": [
        "new_data = np.array([[4.1, 7.1]])\n",
        "prediction = model.predict(new_data)\n",
        "prediction_binary = (prediction > 0.5).astype(int)\n",
        "print(\"Prediction:\", prediction_binary)\n"
      ],
      "metadata": {
        "id": "pARVqOtSRrTY",
        "outputId": "d1a5249f-be22-473d-eee8-40a69f455857",
        "colab": {
          "base_uri": "https://localhost:8080/"
        }
      },
      "execution_count": null,
      "outputs": [
        {
          "output_type": "stream",
          "name": "stdout",
          "text": [
            "1/1 [==============================] - 0s 21ms/step\n",
            "Prediction: [[1]]\n"
          ]
        }
      ]
    },
    {
      "cell_type": "code",
      "source": [],
      "metadata": {
        "id": "eJ1z7u8GRtGg"
      },
      "execution_count": null,
      "outputs": []
    }
  ]
}