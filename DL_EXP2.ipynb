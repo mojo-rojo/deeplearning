{
  "nbformat": 4,
  "nbformat_minor": 0,
  "metadata": {
    "colab": {
      "provenance": []
    },
    "kernelspec": {
      "name": "python3",
      "display_name": "Python 3"
    },
    "language_info": {
      "name": "python"
    }
  },
  "cells": [
    {
      "cell_type": "markdown",
      "source": [
        "Name : Mansi Gharat BE Comps Div: A DL-exp2\n",
        "Moodle ID: 20102168 Roll No.-37"
      ],
      "metadata": {
        "id": "J2PCC3UZbszm"
      }
    },
    {
      "cell_type": "code",
      "execution_count": null,
      "metadata": {
        "colab": {
          "base_uri": "https://localhost:8080/"
        },
        "id": "MgAQWdKkbbyX",
        "outputId": "5fcfee1d-594a-4a6f-8720-74e63bb56591"
      },
      "outputs": [
        {
          "output_type": "stream",
          "name": "stdout",
          "text": [
            "Input Vector : \n",
            " [[0 0]\n",
            " [0 1]\n",
            " [1 0]\n",
            " [1 1]]\n",
            "Output : \n",
            " [0, 0, 0, 1]\n"
          ]
        }
      ],
      "source": [
        "# Neural Network for AND function\n",
        "import numpy as np\n",
        "class and_NN:\n",
        "  def __init__(self, iv):\n",
        "    self.input_vector = np.array(iv)\n",
        "    self.weight_vector = np.array([[-1.5,1,1]])\n",
        "    self.output = np.array([])\n",
        "\n",
        "  def compute(self):\n",
        "    mfv = np.c_[np.ones(4),self.input_vector]# padding with bias\n",
        "    result = mfv.dot(self.weight_vector.transpose()) # multipy\n",
        "    self.output = [0 if r < 0 else 1 for r in result] # simple filter\n",
        "\n",
        "  def show_result(self):\n",
        "    print(\"Input Vector : \\n\",self.input_vector)\n",
        "    print(\"Output : \\n\",self.output)\n",
        "\n",
        "  def get_output(self):\n",
        "    return self.output\n",
        "\n",
        "n = and_NN(np.array([[0,0],[0,1],[1,0],[1,1]]))\n",
        "n.compute()\n",
        "n.show_result()"
      ]
    },
    {
      "cell_type": "code",
      "source": [
        "# Neural Network for OR function\n",
        "import numpy as np\n",
        "\n",
        "class or_NN:\n",
        "  def __init__(self,iv):\n",
        "    self.input_vector = np.array(iv)\n",
        "    self.weight_vector = np.array([[-0.5,1,1]])\n",
        "    self.output = np.array([])\n",
        "\n",
        "  def compute(self):\n",
        "    mfv = np.c_[np.ones(4),self.input_vector] # padding with bias\n",
        "    result = mfv.dot(self.weight_vector.transpose()) # multipy\n",
        "    self.output = [0 if r < 0 else 1 for r in result] # simple filter\n",
        "\n",
        "  def show_result(self):\n",
        "    print(\"Input Vector : \\n\",self.input_vector)\n",
        "    print(\"Output : \\n\",self.output)\n",
        "\n",
        "  def get_output(self):\n",
        "    return self.output\n",
        "\n",
        "\n",
        "n = or_NN(np.array([[0,0],[0,1],[1,0],[1,1]]))\n",
        "\n",
        "n.compute()\n",
        "n.show_result()"
      ],
      "metadata": {
        "colab": {
          "base_uri": "https://localhost:8080/"
        },
        "id": "k9yyYjO_bwUz",
        "outputId": "83eab7ff-f75f-44d3-fd29-4a32a7b60d3f"
      },
      "execution_count": null,
      "outputs": [
        {
          "output_type": "stream",
          "name": "stdout",
          "text": [
            "Input Vector : \n",
            " [[0 0]\n",
            " [0 1]\n",
            " [1 0]\n",
            " [1 1]]\n",
            "Output : \n",
            " [0, 1, 1, 1]\n"
          ]
        }
      ]
    },
    {
      "cell_type": "code",
      "source": [
        "# Neural Network for NAND function\n",
        "import numpy as np\n",
        "\n",
        "class nand_NN:\n",
        "  def __init__(self, iv):\n",
        "   self.input_vector = np.array(iv)\n",
        "   self.weight_vector = np.array([[1.5,-1,-1]])\n",
        "   self.output = np.array([])\n",
        "\n",
        "  def compute(self):\n",
        "    mfv = np.c_[np.ones(4),self.input_vector] # padding with bias\n",
        "    result = mfv.dot(self.weight_vector.transpose()) # multipy\n",
        "    self.output = [0 if r < 0 else 1 for r in result] # simple filter\n",
        "\n",
        "  def show_result(self):\n",
        "    print(\"Input Vector : \\n\",self.input_vector)\n",
        "    print(\"Output : \\n\",self.output)\n",
        "\n",
        "  def get_output(self):\n",
        "    return self.output\n",
        "\n",
        "\n",
        "n = nand_NN(np.array([[0,0],[0,1],[1,0],[1,1]]))\n",
        "\n",
        "n.compute()\n",
        "n.show_result()"
      ],
      "metadata": {
        "colab": {
          "base_uri": "https://localhost:8080/"
        },
        "id": "XiaHyxWEegL5",
        "outputId": "08501ba6-0051-4880-b411-1edb358ed5a7"
      },
      "execution_count": null,
      "outputs": [
        {
          "output_type": "stream",
          "name": "stdout",
          "text": [
            "Input Vector : \n",
            " [[0 0]\n",
            " [0 1]\n",
            " [1 0]\n",
            " [1 1]]\n",
            "Output : \n",
            " [1, 1, 1, 0]\n"
          ]
        }
      ]
    },
    {
      "cell_type": "code",
      "source": [
        "# Neural Network for XOR function\n",
        "# NN for XOR is realized using OR, NAND and AND functions\n",
        "# a xor b = (a or b) and (a nand b)\n",
        "# or and nand in the first layer, and in the second layer\n",
        "\n",
        "class xor_NN:\n",
        "  def __init__(self,iv):\n",
        "    self.input_vector = np.array(iv) # Input Layer\n",
        "    self.output = np.array([])\n",
        "\n",
        "  def compute(self):\n",
        "    or_neuron = or_NN(self.input_vector) # Layer 1\n",
        "    nand_neuron = nand_NN(self.input_vector) # Layer 1\n",
        "    or_neuron.compute()\n",
        "    nand_neuron.compute()\n",
        "    h1 = or_neuron.get_output()\n",
        "    h2 = nand_neuron.get_output()\n",
        "    h = np.concatenate((h1,h2))\n",
        "    iv_l2= h.reshape(4,2)\n",
        "    and_neuron = and_NN(iv_l2) # Layer 2\n",
        "    and_neuron.compute()\n",
        "    self.output = and_neuron.get_output()\n",
        "\n",
        "  def show_result(self):\n",
        "    print(\"Input Vector : \\n\",self.input_vector)\n",
        "    print(\"Output : \\n\",self.output)\n",
        "\n",
        "  def get_output(self):\n",
        "    return self.output\n",
        "\n",
        "n = xor_NN(np.array([[0,0],[0,1],[1,0],[1,1]]))\n",
        "\n",
        "n.compute()\n",
        "n.show_result()"
      ],
      "metadata": {
        "colab": {
          "base_uri": "https://localhost:8080/"
        },
        "id": "QUu1yw3ufXIv",
        "outputId": "66dc1066-8e4d-45f7-ffb0-8f80c92e654e"
      },
      "execution_count": null,
      "outputs": [
        {
          "output_type": "stream",
          "name": "stdout",
          "text": [
            "Input Vector : \n",
            " [[0 0]\n",
            " [0 1]\n",
            " [1 0]\n",
            " [1 1]]\n",
            "Output : \n",
            " [0, 1, 1, 0]\n"
          ]
        }
      ]
    }
  ]
}